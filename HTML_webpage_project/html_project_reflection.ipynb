{
 "cells": [
  {
   "cell_type": "markdown",
   "id": "d80cda3f-0499-4d91-b613-ef25afa3eecc",
   "metadata": {},
   "source": [
    "# Brian Perez-Luna\n",
    "### 4/30/2025"
   ]
  },
  {
   "cell_type": "markdown",
   "id": "cf2f1870-6415-40d4-be65-4ae53e18d4d7",
   "metadata": {},
   "source": [
    "# Artifact Reflection: WWE Fan Page (Intro to Web Development)\n",
    "\n",
    "## Description and Purpose\n",
    "This artifact is a basic HTML webpage I created, this represents what I learned in my Intro to Web Development class. It serves as a personal WWE fan page, where I shared how I got into wrestling and highlighted some of my favorite wrestlers at the time. The goal of the project was to demonstrate my understanding of HTML by building a webpage. Since this was my first real attempt at making a webpage from scratch, I chose a topic I was excited about to stay motivated on it.\n",
    "\n",
    "## Contribution to Overall Learning\n",
    "Creating this fan page helped reintroduce me to web development. I had previously learned some web basics back in 9th grade, but this project gave me a chance to refresh those skills and apply them more confidently. It was an important part of my learning as a Computer Science minor because it helped me build a solid foundation in web development.\n",
    "\n",
    "## Iterative Development\n",
    "Even though the final version is simple, the page went through small iterations as I worked through it. At first, I focused just on getting the title & what it'll be about along with the basic HTML structure. Then, I added more content, like headings (```<h1><h6>```) and images (```<img src>```) etc, to make the page more engaging. I used review tools provided by my Computer Science teacher to help recall forgotten things like how to structure the whole thing itself and remember all commands/functions like (```<a href>```) to add a link or (```<b><i>``` & ```<u>```) to highlight key points in my webpage. I also added an introduction section to welcome visitors and incorporating custom colors to make the page more visually appealing. Finally, on my last update on this HTML page was to make the content more informative and engaging for visitors. This advice helped me focus on including clear text that better aligned with the theme of the page. I added how I got into watching wresting & increased the size of my title.\n",
    "\n",
    "## What I Might Have Done Differently\n",
    "Looking back, I would have spent more time planning the page before coding it. A rough layout might have helped me organize my ideas better but I wish I was more ambitous with my project and used css better in my project than just basic background color. I wish I took longer on sites like W3 schools, which is an open source cite to learn or in my case refresh your memory on HTML or css to enhance the look and style of my webpage.\n",
    "\n",
    "## Next Steps for Future Development\n",
    "If I were to continue working on this artifact, I would start by improving my css to make the layout and design much cooler. maybe add sections/tab to add a link to youtube & show my favorite match of that wrestler and storyline behind it or even add interactive polls to gauge peoples favorite wrestlers kinda like a tinder cite but for finding out the publics pov on a wrestler. I’d be interested in turning the page into a small fan site with multiple pages and a navigation menu, using both css and JavaScript to enhance the user experience."
   ]
  }
 ],
 "metadata": {
  "kernelspec": {
   "display_name": "Python 3 (ipykernel)",
   "language": "python",
   "name": "python3"
  },
  "language_info": {
   "codemirror_mode": {
    "name": "ipython",
    "version": 3
   },
   "file_extension": ".py",
   "mimetype": "text/x-python",
   "name": "python",
   "nbconvert_exporter": "python",
   "pygments_lexer": "ipython3",
   "version": "3.12.4"
  }
 },
 "nbformat": 4,
 "nbformat_minor": 5
}
