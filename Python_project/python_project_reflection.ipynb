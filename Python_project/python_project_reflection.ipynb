{
 "cells": [
  {
   "cell_type": "markdown",
   "id": "a4be103a-689a-4c97-990f-f167c3437b5f",
   "metadata": {},
   "source": [
    "# Brian Perez-Luna\n",
    "## 4/30/2025"
   ]
  },
  {
   "cell_type": "markdown",
   "id": "8a1cc889-8b7b-41d5-887b-80a784aecd31",
   "metadata": {},
   "source": [
    "# Artifact Reflection: Mismatch Card Game (Python 1 & 2)\n",
    "\n",
    "## Description and Purpose\n",
    "This artifact is a Python-based mismatch card game I made during my junior year as part of my Python 1 and 2 courses. The point of the project was to create a game using what we had learned across both semesters. I chose to code a mismatch game similar to the classic card-matching memory game. The purpose of this project was to demonstrate my ability to apply Python fundamentals and intermediate concepts such as loops, conditionals, dictionaries, and different modules in the form of game.\n",
    "\n",
    "## Contribution to Overall Learning\n",
    "This project played a major role in strengthening my understanding of Python. I had coded this game during junior year of high school and later this senior year I revisited it and added new ideas. I learned how to work with data structures like dictionaries to assign and track card values. It also gave me practice in debugging and refining my code as I ran into issues while coding this game. Overall, it was fun and got to share my game with friends & play theirs too.\n",
    "\n",
    "## Iterative Development\n",
    "The development process had a few key stages. I started by introducting the game to the user kind of like a welcome to the game moment. Then I set up the cards by using a dictionary and assigning the same values to everyother two cards and used the ```random``` module to randomize where the value behind the cards are to get a different game each time. Afterthat, I used a for loop to keep the game flowing & keep user guessing till all cards were matched using loops and variable (to track how many you've gotten), you'll get a \"Congratulations! You have matched all the cards.\" message when you match all cards. After revisiting this project my teacher told me to allow custom values (like letters or themes) instead of just numbers, That made the game feel more personal.\n",
    "\n",
    "\n",
    "## What I Might Have Done Differently\n",
    "Looking back, I’m proud of the game and the updates I was able to give according to teachers suggestions. I would've added more letters to guess because the game ends pretty quick and maybe I would've changed the letters you guess to like actual card names like joker, spades, hearts etc.\n",
    "\n",
    "## Next Steps for Future Development\n",
    "If I were to build on this project, I would use cmu graphics to try and recreate this game with cards. That way, players could see actual card designs and interact with the game using clicks rather than just keyboard input. I might add like a create a set of custom cards so you play with cards you like seeing/idk it would be limitless. It could morph into a game and this just happens to be 1 out of 6 mini games like tic tac toe."
   ]
  }
 ],
 "metadata": {
  "kernelspec": {
   "display_name": "Python 3 (ipykernel)",
   "language": "python",
   "name": "python3"
  },
  "language_info": {
   "codemirror_mode": {
    "name": "ipython",
    "version": 3
   },
   "file_extension": ".py",
   "mimetype": "text/x-python",
   "name": "python",
   "nbconvert_exporter": "python",
   "pygments_lexer": "ipython3",
   "version": "3.12.4"
  }
 },
 "nbformat": 4,
 "nbformat_minor": 5
}
