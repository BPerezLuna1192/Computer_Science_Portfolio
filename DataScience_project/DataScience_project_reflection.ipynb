{
 "cells": [
  {
   "cell_type": "markdown",
   "id": "c051a013-111f-426a-8200-308561e1ddc5",
   "metadata": {},
   "source": [
    "# Brian Perez-Luna\n",
    "## 5/6/2025"
   ]
  },
  {
   "cell_type": "markdown",
   "id": "8de85158-8519-4f3c-894b-a9dfe4281714",
   "metadata": {},
   "source": [
    "# Artifact Reflection: DataStory Project (DataScience)\n",
    "\n",
    "## Description and Purpose\n",
    "This artifact is a Datastory project I made during my senior year (Fall Semester) as part of my DataScience course. The point of the project was to create graphs & investigate/analyze it using what we had. I chose to investigate a fastfood dataset and analyzed it to inform people about the best fastfoods to have as a cheat meal. The purpose of this project was to demonstrate my ability to apply what we learned early on in the course like creating scatter plots, histograms etc & convey a point (presentation skills)\n",
    "\n",
    "## Contribution to Overall Learning\n",
    "This project just let me showcase my early learning in DataScience but also test & show my presentation skills. I wasn't persuading anyone of my invesagation but informing people the data which shows obvious points. It help me try out matplotlib, numpy or pandas & put it in to work during this project which was fun and that made it huge for me during my overall learning.\n",
    "\n",
    "## Iterative Development\n",
    "The development process had a few key stages. I started by picking any dataset I wanted to use for my project and tried to find different relationships to 1 column. I created 4 graphs to convey that fastfoods with certain amount of protein could be eaten as a cheat meal. Afterthat I presented in front of my class and informed them about this (me presenting/ telling the story).\n",
    "\n",
    "## What I Might Have Done Differently\n",
    "I would've wanted to use a different dataset preferably something in sports because it's relatable with many people and would be much easier to catch relationships between columns. I’m proud of the project just wish I was more calm while presenting and just overall be more chill/ look like I own the topic.\n",
    "\n",
    "## Next Steps for Future Development\n",
    "I would use the new knowledge I learned from the Spring Semester in DataScience to up the customization in the graphs and make it cooler for the viewers, seaborn would help me accomplish this. I would like to use this skill and perfect it in college to secure a data analyst role in any industry but sports industry in particular would be pretty cool worker for a sports team & still doing thing you love."
   ]
  }
 ],
 "metadata": {
  "kernelspec": {
   "display_name": "Python 3 (ipykernel)",
   "language": "python",
   "name": "python3"
  },
  "language_info": {
   "codemirror_mode": {
    "name": "ipython",
    "version": 3
   },
   "file_extension": ".py",
   "mimetype": "text/x-python",
   "name": "python",
   "nbconvert_exporter": "python",
   "pygments_lexer": "ipython3",
   "version": "3.12.4"
  }
 },
 "nbformat": 4,
 "nbformat_minor": 5
}
